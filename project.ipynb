{
 "cells": [
  {
   "attachments": {},
   "cell_type": "markdown",
   "metadata": {},
   "source": [
    "READING DATA FROM CSV FILE:"
   ]
  },
  {
   "cell_type": "code",
   "execution_count": 33,
   "metadata": {},
   "outputs": [
    {
     "name": "stdout",
     "output_type": "stream",
     "text": [
      "The number of rows in X and y are equal\n"
     ]
    },
    {
     "data": {
      "image/png": "[encoded data removed]",
      "text/plain": [
       "<Figure size 432x288 with 2 Axes>"
      ]
     },
     "metadata": {
      "needs_background": "light"
     },
     "output_type": "display_data"
    },
    {
     "data": {
      "image/png": "[encoded data removed]",
      "text/plain": [
       "<Figure size 432x288 with 1 Axes>"
      ]
     },
     "metadata": {
      "needs_background": "light"
     },
     "output_type": "display_data"
    }
   ],
   "source": [
    "\n",
    "import csv\n",
    "from sklearn.metrics import  confusion_matrix\n",
    "from sklearn.ensemble import RandomForestClassifier as rf\n",
    "from sklearn.model_selection import train_test_split\n",
    "import matplotlib.pyplot as plt\n",
    "import seaborn as sns\n",
    "import numpy as np\n",
    "\n",
    "# Load the sensor data from the CSV file\n",
    "with open('/Users/sumanth/sensor_data.csv', 'r') as file:\n",
    "    reader = csv.reader(file)\n",
    "    data = list(reader)\n",
    "    headers = data[0]\n",
    "    data = data[1:]\n",
    "\n",
    "\n",
    "\n",
    "# Extract the feature variables (heart rate, blood pressure, temperature)\n",
    "# and the target variable (condition)\n",
    "X = [[float(row[2]), float(row[3]), float(row[4])] for row in data]\n",
    "y = [row[5] for row in data]\n",
    "\n",
    "# check if the number of rows in X and y are equal\n",
    "if len(X) != len(y):\n",
    "    print(\"The number of rows in X and y are not equal\")\n",
    "else:\n",
    "    print(\"The number of rows in X and y are equal\")\n",
    "\n",
    "\n",
    "\n",
    "# Split the data into training and test sets\n",
    "X_train, X_test, y_train, y_test = train_test_split(X, y, test_size=0.2)\n",
    "\n",
    "# Create an instance of the class\n",
    "rf_model = rf()\n",
    "\n",
    "# Fit the model to the training data\n",
    "rf_model.fit(X_train, y_train)\n",
    "\n",
    "# Make predictions on the test data\n",
    "y_pred = rf_model.predict(X_test)\n",
    "\n",
    "# Create a confusion matrix\n",
    "cm = confusion_matrix(y_test, y_pred)\n",
    "\n",
    "\n",
    "\n",
    "# Plot the confusion matrix\n",
    "sns.heatmap(cm, annot=True, fmt='d')\n",
    "plt.xlabel('Predicted')\n",
    "plt.ylabel('True')\n",
    "plt.show()\n",
    "\n",
    "# Define a list of possible conditions\n",
    "conditions = ['healthy', 'fever', 'asthma', 'heart attack']\n",
    "\n",
    "# Create a dictionary to store the count of each class in the predictions\n",
    "pred_count = {condition: 0 for condition in conditions}\n",
    "for pred in y_pred:\n",
    "    pred_count[pred] += 1\n",
    "\n",
    "#Plotting the bar plot\n",
    "plt.bar(pred_count.keys(), pred_count.values())\n",
    "plt.xlabel('Class')\n",
    "plt.ylabel('patients')\n",
    "plt.show()\n",
    "\n"
   ]
  }
 ],
 "metadata": {
  "kernelspec": {
   "display_name": "Python 3",
   "language": "python",
   "name": "python3"
  },
  "language_info": {
   "codemirror_mode": {
    "name": "ipython",
    "version": 3
   },
   "file_extension": ".py",
   "mimetype": "text/x-python",
   "name": "python",
   "nbconvert_exporter": "python",
   "pygments_lexer": "ipython3",
   "version": "3.10.4"
  },
  "orig_nbformat": 4,
  "vscode": {
   "interpreter": {
    "hash": "aee8b7b246df8f9039afb4144a1f6fd8d2ca17a180786b69acc140d282b71a49"
   }
  }
 },
 "nbformat": 4,
 "nbformat_minor": 2
}
